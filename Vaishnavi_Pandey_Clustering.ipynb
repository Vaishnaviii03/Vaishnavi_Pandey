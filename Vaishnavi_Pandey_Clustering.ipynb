{
 "cells": [
  {
   "cell_type": "markdown",
   "id": "0be1dc32",
   "metadata": {},
   "source": [
    "# Assignment 3 CLUSTERING"
   ]
  },
  {
   "cell_type": "code",
   "execution_count": 20,
   "id": "b990001e",
   "metadata": {},
   "outputs": [
    {
     "data": {
      "text/html": [
       "<div>\n",
       "<style scoped>\n",
       "    .dataframe tbody tr th:only-of-type {\n",
       "        vertical-align: middle;\n",
       "    }\n",
       "\n",
       "    .dataframe tbody tr th {\n",
       "        vertical-align: top;\n",
       "    }\n",
       "\n",
       "    .dataframe thead th {\n",
       "        text-align: right;\n",
       "    }\n",
       "</style>\n",
       "<table border=\"1\" class=\"dataframe\">\n",
       "  <thead>\n",
       "    <tr style=\"text-align: right;\">\n",
       "      <th></th>\n",
       "      <th>TransactionID</th>\n",
       "      <th>CustomerID</th>\n",
       "      <th>ProductID</th>\n",
       "      <th>TransactionDate</th>\n",
       "      <th>Quantity</th>\n",
       "      <th>TotalValue</th>\n",
       "      <th>Price</th>\n",
       "    </tr>\n",
       "  </thead>\n",
       "  <tbody>\n",
       "    <tr>\n",
       "      <th>0</th>\n",
       "      <td>T00001</td>\n",
       "      <td>C0199</td>\n",
       "      <td>P067</td>\n",
       "      <td>2024-08-25 12:38:23</td>\n",
       "      <td>1</td>\n",
       "      <td>300.68</td>\n",
       "      <td>300.68</td>\n",
       "    </tr>\n",
       "    <tr>\n",
       "      <th>1</th>\n",
       "      <td>T00112</td>\n",
       "      <td>C0146</td>\n",
       "      <td>P067</td>\n",
       "      <td>2024-05-27 22:23:54</td>\n",
       "      <td>1</td>\n",
       "      <td>300.68</td>\n",
       "      <td>300.68</td>\n",
       "    </tr>\n",
       "    <tr>\n",
       "      <th>2</th>\n",
       "      <td>T00166</td>\n",
       "      <td>C0127</td>\n",
       "      <td>P067</td>\n",
       "      <td>2024-04-25 07:38:55</td>\n",
       "      <td>1</td>\n",
       "      <td>300.68</td>\n",
       "      <td>300.68</td>\n",
       "    </tr>\n",
       "    <tr>\n",
       "      <th>3</th>\n",
       "      <td>T00272</td>\n",
       "      <td>C0087</td>\n",
       "      <td>P067</td>\n",
       "      <td>2024-03-26 22:55:37</td>\n",
       "      <td>2</td>\n",
       "      <td>601.36</td>\n",
       "      <td>300.68</td>\n",
       "    </tr>\n",
       "    <tr>\n",
       "      <th>4</th>\n",
       "      <td>T00363</td>\n",
       "      <td>C0070</td>\n",
       "      <td>P067</td>\n",
       "      <td>2024-03-21 15:10:10</td>\n",
       "      <td>3</td>\n",
       "      <td>902.04</td>\n",
       "      <td>300.68</td>\n",
       "    </tr>\n",
       "  </tbody>\n",
       "</table>\n",
       "</div>"
      ],
      "text/plain": [
       "  TransactionID CustomerID ProductID      TransactionDate  Quantity  \\\n",
       "0        T00001      C0199      P067  2024-08-25 12:38:23         1   \n",
       "1        T00112      C0146      P067  2024-05-27 22:23:54         1   \n",
       "2        T00166      C0127      P067  2024-04-25 07:38:55         1   \n",
       "3        T00272      C0087      P067  2024-03-26 22:55:37         2   \n",
       "4        T00363      C0070      P067  2024-03-21 15:10:10         3   \n",
       "\n",
       "   TotalValue   Price  \n",
       "0      300.68  300.68  \n",
       "1      300.68  300.68  \n",
       "2      300.68  300.68  \n",
       "3      601.36  300.68  \n",
       "4      902.04  300.68  "
      ]
     },
     "execution_count": 20,
     "metadata": {},
     "output_type": "execute_result"
    }
   ],
   "source": [
    "import pandas as pd\n",
    "\n",
    "# Datasets\n",
    "customers = pd.read_csv(\"Customers.csv\")\n",
    "products = pd.read_csv(\"Products.csv\")\n",
    "transactions = pd.read_csv(\"Transactions.csv\")\n",
    "\n",
    "transactions.head()\n"
   ]
  },
  {
   "cell_type": "code",
   "execution_count": 21,
   "id": "571e76e9",
   "metadata": {},
   "outputs": [
    {
     "data": {
      "text/html": [
       "<div>\n",
       "<style scoped>\n",
       "    .dataframe tbody tr th:only-of-type {\n",
       "        vertical-align: middle;\n",
       "    }\n",
       "\n",
       "    .dataframe tbody tr th {\n",
       "        vertical-align: top;\n",
       "    }\n",
       "\n",
       "    .dataframe thead th {\n",
       "        text-align: right;\n",
       "    }\n",
       "</style>\n",
       "<table border=\"1\" class=\"dataframe\">\n",
       "  <thead>\n",
       "    <tr style=\"text-align: right;\">\n",
       "      <th></th>\n",
       "      <th>CustomerID</th>\n",
       "      <th>TotalSpending</th>\n",
       "      <th>TransactionCount</th>\n",
       "      <th>TopCategory_Books</th>\n",
       "      <th>TopCategory_Clothing</th>\n",
       "      <th>TopCategory_Electronics</th>\n",
       "      <th>TopCategory_Home Decor</th>\n",
       "    </tr>\n",
       "  </thead>\n",
       "  <tbody>\n",
       "    <tr>\n",
       "      <th>0</th>\n",
       "      <td>C0001</td>\n",
       "      <td>3354.52</td>\n",
       "      <td>5</td>\n",
       "      <td>0</td>\n",
       "      <td>0</td>\n",
       "      <td>1</td>\n",
       "      <td>0</td>\n",
       "    </tr>\n",
       "    <tr>\n",
       "      <th>1</th>\n",
       "      <td>C0002</td>\n",
       "      <td>1862.74</td>\n",
       "      <td>4</td>\n",
       "      <td>0</td>\n",
       "      <td>1</td>\n",
       "      <td>0</td>\n",
       "      <td>0</td>\n",
       "    </tr>\n",
       "    <tr>\n",
       "      <th>2</th>\n",
       "      <td>C0003</td>\n",
       "      <td>2725.38</td>\n",
       "      <td>4</td>\n",
       "      <td>0</td>\n",
       "      <td>0</td>\n",
       "      <td>0</td>\n",
       "      <td>1</td>\n",
       "    </tr>\n",
       "    <tr>\n",
       "      <th>3</th>\n",
       "      <td>C0004</td>\n",
       "      <td>5354.88</td>\n",
       "      <td>8</td>\n",
       "      <td>1</td>\n",
       "      <td>0</td>\n",
       "      <td>0</td>\n",
       "      <td>0</td>\n",
       "    </tr>\n",
       "    <tr>\n",
       "      <th>4</th>\n",
       "      <td>C0005</td>\n",
       "      <td>2034.24</td>\n",
       "      <td>3</td>\n",
       "      <td>0</td>\n",
       "      <td>0</td>\n",
       "      <td>1</td>\n",
       "      <td>0</td>\n",
       "    </tr>\n",
       "  </tbody>\n",
       "</table>\n",
       "</div>"
      ],
      "text/plain": [
       "  CustomerID  TotalSpending  TransactionCount  TopCategory_Books  \\\n",
       "0      C0001        3354.52                 5                  0   \n",
       "1      C0002        1862.74                 4                  0   \n",
       "2      C0003        2725.38                 4                  0   \n",
       "3      C0004        5354.88                 8                  1   \n",
       "4      C0005        2034.24                 3                  0   \n",
       "\n",
       "   TopCategory_Clothing  TopCategory_Electronics  TopCategory_Home Decor  \n",
       "0                     0                        1                       0  \n",
       "1                     1                        0                       0  \n",
       "2                     0                        0                       1  \n",
       "3                     0                        0                       0  \n",
       "4                     0                        1                       0  "
      ]
     },
     "execution_count": 21,
     "metadata": {},
     "output_type": "execute_result"
    }
   ],
   "source": [
    "# Merge datasets\n",
    "data = transactions.merge(products, on='ProductID').merge(customers, on='CustomerID')\n",
    "\n",
    "# Feature Engineering: Aggregate data at the customer level\n",
    "customer_segmentation = data.groupby('CustomerID').agg({\n",
    "    'TotalValue': 'sum',  # Total spending\n",
    "    'TransactionID': 'nunique',  # Number of transactions\n",
    "    'Category': lambda x: x.mode()[0],  # Most purchased category\n",
    "}).reset_index()\n",
    "\n",
    "# Rename columns for clarity\n",
    "customer_segmentation.columns = ['CustomerID', 'TotalSpending', 'TransactionCount', 'TopCategory']\n",
    "\n",
    "# Convert categorical columns to numerical (one-hot encoding)\n",
    "customer_segmentation = pd.get_dummies(customer_segmentation, columns=['TopCategory'])\n",
    "\n",
    "# Fill missing values if any\n",
    "customer_segmentation = customer_segmentation.fillna(0)\n",
    "\n",
    "customer_segmentation.head()\n"
   ]
  },
  {
   "cell_type": "code",
   "execution_count": 22,
   "id": "059379c6",
   "metadata": {},
   "outputs": [
    {
     "name": "stdout",
     "output_type": "stream",
     "text": [
      "Scaled data shape: (199, 6)\n"
     ]
    }
   ],
   "source": [
    "from sklearn.preprocessing import StandardScaler\n",
    "\n",
    "# Extract numerical features for scaling\n",
    "numerical_features = customer_segmentation.drop(columns=['CustomerID'])\n",
    "scaler = StandardScaler()\n",
    "scaled_data = scaler.fit_transform(numerical_features)\n",
    "\n",
    "print(\"Scaled data shape:\", scaled_data.shape)\n"
   ]
  },
  {
   "cell_type": "code",
   "execution_count": 23,
   "id": "90ba1b09",
   "metadata": {},
   "outputs": [
    {
     "name": "stdout",
     "output_type": "stream",
     "text": [
      "Scaled data shape: (199, 6)\n"
     ]
    }
   ],
   "source": [
    "from sklearn.preprocessing import StandardScaler\n",
    "\n",
    "# Extract numerical features for clustering\n",
    "numerical_features = customer_segmentation.drop(columns=['CustomerID'])\n",
    "scaler = StandardScaler()\n",
    "scaled_data = scaler.fit_transform(numerical_features)\n",
    "\n",
    "print(\"Scaled data shape:\", scaled_data.shape)\n"
   ]
  },
  {
   "cell_type": "code",
   "execution_count": 26,
   "id": "c1999ad9",
   "metadata": {},
   "outputs": [
    {
     "name": "stdout",
     "output_type": "stream",
     "text": [
      "Scaled data shape: (199, 7)\n"
     ]
    }
   ],
   "source": [
    "# Assuming 'customer_segmentation' is your DataFrame\n",
    "numerical_features = customer_segmentation.drop(columns=['CustomerID'])\n",
    "scaler = StandardScaler()\n",
    "scaled_data = scaler.fit_transform(numerical_features)\n",
    "\n",
    "print(\"Scaled data shape:\", scaled_data.shape)\n"
   ]
  },
  {
   "cell_type": "code",
   "execution_count": 30,
   "id": "e46f13ab",
   "metadata": {},
   "outputs": [
    {
     "name": "stdout",
     "output_type": "stream",
     "text": [
      "DB Index: 1.3282080107857548\n"
     ]
    },
    {
     "data": {
      "image/png": "[encoded data removed]",
      "text/plain": [
       "<Figure size 1000x600 with 2 Axes>"
      ]
     },
     "metadata": {},
     "output_type": "display_data"
    },
    {
     "name": "stdout",
     "output_type": "stream",
     "text": [
      "Number of Clusters: 6\n"
     ]
    }
   ],
   "source": [
    "# Import necessary libraries\n",
    "import pandas as pd\n",
    "import numpy as np\n",
    "import matplotlib.pyplot as plt\n",
    "from sklearn.cluster import DBSCAN\n",
    "from sklearn.preprocessing import StandardScaler\n",
    "from sklearn.metrics import davies_bouldin_score\n",
    "\n",
    "# Merge datasets\n",
    "data = transactions.merge(products, on='ProductID').merge(customers, on='CustomerID')\n",
    "\n",
    "# Feature Engineering: Aggregate data at the customer level\n",
    "customer_segmentation = data.groupby('CustomerID').agg({\n",
    "    'TotalValue': 'sum',  # Total spending\n",
    "    'TransactionID': 'nunique',  # Number of transactions\n",
    "    'Category': lambda x: x.mode()[0],  # Most purchased category\n",
    "}).reset_index()\n",
    "\n",
    "# Rename columns for clarity\n",
    "customer_segmentation.columns = ['CustomerID', 'TotalSpending', 'TransactionCount', 'TopCategory']\n",
    "\n",
    "# Convert categorical columns to numerical (one-hot encoding)\n",
    "customer_segmentation = pd.get_dummies(customer_segmentation, columns=['TopCategory'])\n",
    "\n",
    "# Fill missing values if any\n",
    "customer_segmentation = customer_segmentation.fillna(0)\n",
    "\n",
    "# Feature scaling\n",
    "scaler = StandardScaler()\n",
    "scaled_data = scaler.fit_transform(customer_segmentation.drop('CustomerID', axis=1))\n",
    "\n",
    "# DBSCAN clustering\n",
    "dbscan = DBSCAN(eps=0.5, min_samples=5)  # You can adjust eps and min_samples for better results\n",
    "customer_segmentation['Cluster'] = dbscan.fit_predict(scaled_data)\n",
    "\n",
    "# Calculate clustering metrics (DB Index)\n",
    "db_index = davies_bouldin_score(scaled_data, customer_segmentation['Cluster'])\n",
    "\n",
    "# Print DB Index\n",
    "print(f\"DB Index: {db_index}\")\n",
    "\n",
    "# Visualize the clusters (2D visualization using PCA)\n",
    "from sklearn.decomposition import PCA\n",
    "\n",
    "pca = PCA(n_components=2)\n",
    "reduced_data = pca.fit_transform(scaled_data)\n",
    "\n",
    "# Plot the clusters\n",
    "plt.figure(figsize=(10, 6))\n",
    "plt.scatter(reduced_data[:, 0], reduced_data[:, 1], c=customer_segmentation['Cluster'], cmap='viridis')\n",
    "plt.title('Customer Segmentation using DBSCAN')\n",
    "plt.xlabel('Principal Component 1')\n",
    "plt.ylabel('Principal Component 2')\n",
    "plt.colorbar(label='Cluster')\n",
    "plt.show()\n",
    "\n",
    "# Report: Number of clusters and DB Index\n",
    "print(f\"Number of Clusters: {len(set(customer_segmentation['Cluster'])) - (1 if -1 in customer_segmentation['Cluster'].values else 0)}\")\n"
   ]
  },
  {
   "cell_type": "code",
   "execution_count": null,
   "id": "17a74c26",
   "metadata": {},
   "outputs": [],
   "source": []
  }
 ],
 "metadata": {
  "kernelspec": {
   "display_name": "Python 3 (ipykernel)",
   "language": "python",
   "name": "python3"
  },
  "language_info": {
   "codemirror_mode": {
    "name": "ipython",
    "version": 3
   },
   "file_extension": ".py",
   "mimetype": "text/x-python",
   "name": "python",
   "nbconvert_exporter": "python",
   "pygments_lexer": "ipython3",
   "version": "3.11.3"
  }
 },
 "nbformat": 4,
 "nbformat_minor": 5
}
